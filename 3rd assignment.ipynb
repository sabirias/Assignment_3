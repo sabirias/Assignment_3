{
 "cells": [
  {
   "cell_type": "code",
   "execution_count": null,
   "id": "ad83a853-557e-4094-94a5-3f1a9f1303f6",
   "metadata": {},
   "outputs": [],
   "source": [
    "                                                      ASSIGNMRNT:- 3"
   ]
  },
  {
   "cell_type": "code",
   "execution_count": null,
   "id": "9f1894c6-0c19-48f2-b3a0-05cb43b1d277",
   "metadata": {},
   "outputs": [],
   "source": [
    "1) EXPLAIN WITH AN EXAMPLE EACH WHEN TO USE A FOR LOOP AND A WHILE LOOP?\n",
    "\n",
    "ANS:- A for loop is used when you know how many times a statement needs to be executed. \n",
    "      A while loop is used when the number of iterations is unknown. \n",
    "    \n",
    "    Here are some examples of when to use a for loop: \n",
    "\n",
    "        1.Iterate over an array\n",
    "        2.Check the grade of every student in a class\n",
    "        3.Write a 15 page paper\n",
    "        4.Boil potatoes for 11 minutes\n",
    "\n",
    "    Here are some examples of when to use a while loop: \n",
    "\n",
    "        1.Read a file into a variable\n",
    "        2.Ask for user input\n",
    "        3.Input new brands through software\n",
    "        4.Shoot baskets until you have made 50 successful shots\n",
    "        5.Boil potatoes until a fork can be easily inserted\n",
    "\n",
    "    You can use a for loop and a while loop interchangeably. For example: \n",
    "\n",
    "        For loop: for(var i = 0; i < 100; i++)\n",
    "        While loop: while(i < 100)"
   ]
  },
  {
   "cell_type": "code",
   "execution_count": null,
   "id": "3c7bd0d8-d98b-4bfa-a0d4-9a346bb72155",
   "metadata": {},
   "outputs": [],
   "source": [
    "2) WRITE A PYTHON PROGRAM TO PRINT THE SUM AND PRODUCT OF THE FIRST 10 NAATURAL NUMBER USING FOR LOOP AND WHILE LOOP?"
   ]
  },
  {
   "cell_type": "code",
   "execution_count": 5,
   "id": "61123257-8c2a-4ae3-b900-6a5243d96ad9",
   "metadata": {},
   "outputs": [
    {
     "name": "stdout",
     "output_type": "stream",
     "text": [
      "Sum using for loop: 55\n",
      "Product using for loop: 3628800\n"
     ]
    }
   ],
   "source": [
    "# Using a for loop to calculate the sum and product of the first 10 natural numbers\n",
    "n = 10\n",
    "sum_for = 0\n",
    "product_for = 1\n",
    "for i in range(1, n+1):\n",
    "    sum_for += i\n",
    "    product_for *= i\n",
    "\n",
    "# Print the results\n",
    "print(\"Sum using for loop:\", sum_for)\n",
    "print(\"Product using for loop:\", product_for)\n"
   ]
  },
  {
   "cell_type": "code",
   "execution_count": 8,
   "id": "eda5da46-0571-487b-b49c-05f7aec7d2d0",
   "metadata": {},
   "outputs": [
    {
     "name": "stdout",
     "output_type": "stream",
     "text": [
      "Sum using while loop: 55\n",
      "Product using while loop: 3628800\n"
     ]
    }
   ],
   "source": [
    "# Using a while loop to calculate the sum and product of the first 10 natural numbers\n",
    "n = 10\n",
    "sum_while = 0\n",
    "product_while = 1\n",
    "i = 1\n",
    "while i <= n:\n",
    "    sum_while += i\n",
    "    product_while *= i\n",
    "    i += 1\n",
    "    \n",
    "# Print the results\n",
    "print(\"Sum using while loop:\", sum_while)\n",
    "print(\"Product using while loop:\", product_while)\n"
   ]
  },
  {
   "cell_type": "code",
   "execution_count": null,
   "id": "8dbc44b5-bd7a-480e-87e0-af7ece553174",
   "metadata": {},
   "outputs": [],
   "source": [
    "3)Create a python program to compute the electricity bill for a household.\n",
    "The per-unit charges in rupees are as follows: For the first 100 units, the user will be charged Rs. 4.5 per \n",
    "unit, for the next 100 units, the user will be charged Rs. 6 per unit, and for the next 100 units, the user will \n",
    "be charged Rs. 10 per unit, After 300 units and above the user will be charged Rs. 20 per unit.\n",
    "\n",
    "You are required to take the units of electricity consumed in a month from the user as input.\n",
    "\n",
    "Your program must pass this test case: when the unit of electricity consumed by the user in a month is \n",
    "310, the total electricity bill should be 2250."
   ]
  },
  {
   "cell_type": "code",
   "execution_count": 1,
   "id": "d264e0fa-1a49-4f56-ba0d-061d3f0f883a",
   "metadata": {},
   "outputs": [
    {
     "name": "stdin",
     "output_type": "stream",
     "text": [
      "Enter the units of electricity consumed in a month:  310\n"
     ]
    },
    {
     "name": "stdout",
     "output_type": "stream",
     "text": [
      "The total electricity bill is Rs. 2250.0\n"
     ]
    }
   ],
   "source": [
    "# Input units from the user\n",
    "units = int(input(\"Enter the units of electricity consumed in a month: \"))\n",
    "\n",
    "# calculate the electricity bill \n",
    "total_bill = 0\n",
    "\n",
    "if units <= 100:\n",
    "    total_bill = units * 4.5\n",
    "        \n",
    "elif 100 < units <= 200:\n",
    "    total_bill = (100 *4.5) + ((units - 100) * 6)\n",
    "        \n",
    "elif 200 < units <= 300:\n",
    "    total_bill = (100 * 4.5) + (100 * 6) + ((units - 200) * 10)\n",
    "        \n",
    "elif units > 300:\n",
    "    total_bill = (100 * 4.5) + (100 * 6) + (100 * 10) + ((units - 300) * 20)\n",
    "\n",
    "# print the electricity bill\n",
    "print(\"The total electricity bill is Rs.\", total_bill)\n"
   ]
  },
  {
   "cell_type": "code",
   "execution_count": null,
   "id": "0d3df8ef-7b91-47e6-8caf-dc788951dd54",
   "metadata": {},
   "outputs": [],
   "source": [
    "4)  Create a list of numbers from 1 to 100. Use for loop and while loop to calculate the cube of each \n",
    "    number and if the cube of that number is divisible by 4 or 5 then append that number in a list and print \n",
    "    that list."
   ]
  },
  {
   "cell_type": "code",
   "execution_count": 5,
   "id": "db446d9d-5d21-417c-86f5-c1910952c08e",
   "metadata": {},
   "outputs": [
    {
     "name": "stdout",
     "output_type": "stream",
     "text": [
      "Numbers whose cubes are divisible by 4 or 5 (using for loop): [2, 4, 5, 6, 8, 10, 12, 14, 15, 16, 18, 20, 22, 24, 25, 26, 28, 30, 32, 34, 35, 36, 38, 40, 42, 44, 45, 46, 48, 50, 52, 54, 55, 56, 58, 60, 62, 64, 65, 66, 68, 70, 72, 74, 75, 76, 78, 80, 82, 84, 85, 86, 88, 90, 92, 94, 95, 96, 98, 100]\n"
     ]
    }
   ],
   "source": [
    "# Using for loop\n",
    "numbers = list(range(1, 101))\n",
    "result_list = []\n",
    "\n",
    "for num in numbers:\n",
    "    cube = num ** 3\n",
    "    if cube % 4 == 0 or cube % 5 == 0:\n",
    "        result_list.append(num)\n",
    "\n",
    "print(\"Numbers whose cubes are divisible by 4 or 5 (using for loop):\", result_list)\n"
   ]
  },
  {
   "cell_type": "code",
   "execution_count": 6,
   "id": "18b0051e-1449-4001-9fa6-40b83a2ea76a",
   "metadata": {},
   "outputs": [
    {
     "name": "stdout",
     "output_type": "stream",
     "text": [
      "Numbers whose cubes are divisible by 4 or 5 (using while loop): [2, 4, 5, 6, 8, 10, 12, 14, 15, 16, 18, 20, 22, 24, 25, 26, 28, 30, 32, 34, 35, 36, 38, 40, 42, 44, 45, 46, 48, 50, 52, 54, 55, 56, 58, 60, 62, 64, 65, 66, 68, 70, 72, 74, 75, 76, 78, 80, 82, 84, 85, 86, 88, 90, 92, 94, 95, 96, 98, 100]\n"
     ]
    }
   ],
   "source": [
    "# Using while loop\n",
    "numbers = list(range(1, 101))\n",
    "result_list = []\n",
    "\n",
    "index = 0\n",
    "while index < len(numbers):\n",
    "    num = numbers[index]\n",
    "    cube = num ** 3\n",
    "    if cube % 4 == 0 or cube % 5 == 0:\n",
    "        result_list.append(num)\n",
    "    index += 1\n",
    "\n",
    "print(\"Numbers whose cubes are divisible by 4 or 5 (using while loop):\", result_list)\n"
   ]
  },
  {
   "cell_type": "code",
   "execution_count": null,
   "id": "92bef366-0e4a-45ca-a087-76f3aa36bff7",
   "metadata": {},
   "outputs": [],
   "source": [
    "5)  Write a program to filter count vowels in the below-given string.\n",
    "    string = \"I want to become a data scientist\""
   ]
  },
  {
   "cell_type": "code",
   "execution_count": 3,
   "id": "32f8b0a9-e3db-4546-b3df-4befb66537af",
   "metadata": {},
   "outputs": [
    {
     "name": "stdout",
     "output_type": "stream",
     "text": [
      "The number of vowels in the string is: 12\n"
     ]
    }
   ],
   "source": [
    "string = \"I want to become a data scientist\"\n",
    "\n",
    "vowels = \"aeiouAEIOU\"\n",
    "count = 0\n",
    "\n",
    "for char in string:\n",
    "    if char in vowels:\n",
    "        count += 1\n",
    "# Display the result\n",
    "print(f\"The number of vowels in the string is:\", count)"
   ]
  },
  {
   "cell_type": "code",
   "execution_count": null,
   "id": "75c2a72f-137d-4888-81b4-c9ebcd177328",
   "metadata": {},
   "outputs": [],
   "source": []
  }
 ],
 "metadata": {
  "kernelspec": {
   "display_name": "Python 3 (ipykernel)",
   "language": "python",
   "name": "python3"
  },
  "language_info": {
   "codemirror_mode": {
    "name": "ipython",
    "version": 3
   },
   "file_extension": ".py",
   "mimetype": "text/x-python",
   "name": "python",
   "nbconvert_exporter": "python",
   "pygments_lexer": "ipython3",
   "version": "3.10.8"
  }
 },
 "nbformat": 4,
 "nbformat_minor": 5
}
